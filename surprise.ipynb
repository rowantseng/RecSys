{
 "cells": [
  {
   "cell_type": "code",
   "execution_count": 1,
   "metadata": {},
   "outputs": [],
   "source": [
    "#!/usr/bin/python\n",
    "# -*- coding: UTF-8 -*-\n",
    "import joblib\n",
    "from surprise import NMF, SVD, SVDpp\n",
    "from surprise import Dataset\n",
    "from surprise.accuracy import mae as MAE\n",
    "from surprise.accuracy import mse as MSE\n",
    "from surprise.model_selection import train_test_split\n",
    "\n",
    "seed=12"
   ]
  },
  {
   "cell_type": "markdown",
   "metadata": {},
   "source": [
    "## Hyperparameters"
   ]
  },
  {
   "cell_type": "code",
   "execution_count": 2,
   "metadata": {},
   "outputs": [],
   "source": [
    "# Set for training\n",
    "featureNum = 10\n",
    "lr = 2e-3\n",
    "epochs = 50\n",
    "\n",
    "# Set for regularization\n",
    "regRate = 1e-2"
   ]
  },
  {
   "cell_type": "markdown",
   "metadata": {},
   "source": [
    "## Load and Split Data"
   ]
  },
  {
   "cell_type": "code",
   "execution_count": 3,
   "metadata": {},
   "outputs": [],
   "source": [
    "data = Dataset.load_builtin(\"ml-100k\")\n",
    "trainSet, validSet = train_test_split(data, test_size=0.2, random_state=seed)"
   ]
  },
  {
   "cell_type": "code",
   "execution_count": 4,
   "metadata": {},
   "outputs": [
    {
     "name": "stdout",
     "output_type": "stream",
     "text": [
      "943 users, 1651 items, and 80000 ratings in train\n",
      "Missing rate of train: 94.862%\n"
     ]
    }
   ],
   "source": [
    "print(f\"{trainSet.n_users} users, {trainSet.n_items} items, and {trainSet.n_ratings} ratings in train\")\n",
    "print(f\"Missing rate of train: {(1-trainSet.n_ratings/(trainSet.n_users*trainSet.n_items))*100:.3f}%\")"
   ]
  },
  {
   "cell_type": "code",
   "execution_count": 5,
   "metadata": {},
   "outputs": [
    {
     "name": "stdout",
     "output_type": "stream",
     "text": [
      "20000 ratings in valid\n",
      "Missing rate of valid: 98.715%\n"
     ]
    }
   ],
   "source": [
    "numValidRates = len(validSet)\n",
    "print(f\"{numValidRates} ratings in valid\")\n",
    "print(f\"Missing rate of valid: {(1-numValidRates/(trainSet.n_users*trainSet.n_items))*100:.3f}%\")"
   ]
  },
  {
   "cell_type": "markdown",
   "metadata": {},
   "source": [
    "## Train and Validate FunkSVD using MSE and MAE"
   ]
  },
  {
   "cell_type": "code",
   "execution_count": 6,
   "metadata": {},
   "outputs": [
    {
     "name": "stdout",
     "output_type": "stream",
     "text": [
      "MSE: 0.8645\n",
      "MAE:  0.7316\n"
     ]
    }
   ],
   "source": [
    "funksvd = SVD(n_factors=featureNum, n_epochs=epochs, lr_all=lr, reg_all=regRate, random_state=seed)\n",
    "funksvd.fit(trainSet)\n",
    "\n",
    "# Save model\n",
    "with open(\"surprise/funksvd.joblib\", \"wb\") as f:\n",
    "    joblib.dump(funksvd, f)\n",
    "\n",
    "# Evaluate\n",
    "predSvd = funksvd.test(validSet)\n",
    "mse = MSE(predSvd)\n",
    "mae = MAE(predSvd)"
   ]
  },
  {
   "cell_type": "markdown",
   "metadata": {},
   "source": [
    "## Train and Validate SVD++ using MSE and MAE"
   ]
  },
  {
   "cell_type": "code",
   "execution_count": 7,
   "metadata": {},
   "outputs": [
    {
     "name": "stdout",
     "output_type": "stream",
     "text": [
      "MSE: 0.8267\n",
      "MAE:  0.7121\n"
     ]
    }
   ],
   "source": [
    "svdpp = SVDpp(n_factors=featureNum, n_epochs=epochs, lr_all=lr, reg_all=regRate, random_state=seed)\n",
    "svdpp.fit(trainSet)\n",
    "\n",
    "# Save model\n",
    "with open(\"surprise/svdpp.joblib\", \"wb\") as f:\n",
    "    joblib.dump(svdpp, f)\n",
    "\n",
    "# Evaluate\n",
    "predSvdpp = svdpp.test(validSet)\n",
    "mse = MSE(predSvdpp)\n",
    "mae = MAE(predSvdpp)"
   ]
  },
  {
   "cell_type": "markdown",
   "metadata": {},
   "source": [
    "## Train and Validate NMF using MSE and MAE"
   ]
  },
  {
   "cell_type": "code",
   "execution_count": 8,
   "metadata": {},
   "outputs": [
    {
     "name": "stdout",
     "output_type": "stream",
     "text": [
      "MSE: 0.9592\n",
      "MAE:  0.7623\n"
     ]
    }
   ],
   "source": [
    "nmf = NMF(n_factors=featureNum, n_epochs=epochs, reg_pu=lr, reg_qi=lr, biased=True, reg_bu=regRate, reg_bi=regRate, lr_bu=regRate, lr_bi=regRate, random_state=seed)\n",
    "nmf.fit(trainSet)\n",
    "\n",
    "# Save model\n",
    "with open(\"surprise/nmf.joblib\", \"wb\") as f:\n",
    "    joblib.dump(nmf, f)\n",
    "\n",
    "# Evaluate\n",
    "predNmf = nmf.test(validSet)\n",
    "mse = MSE(predNmf)\n",
    "mae = MAE(predNmf)"
   ]
  },
  {
   "cell_type": "code",
   "execution_count": null,
   "metadata": {},
   "outputs": [],
   "source": []
  }
 ],
 "metadata": {
  "kernelspec": {
   "display_name": "Python 3",
   "language": "python",
   "name": "python3"
  },
  "language_info": {
   "codemirror_mode": {
    "name": "ipython",
    "version": 3
   },
   "file_extension": ".py",
   "mimetype": "text/x-python",
   "name": "python",
   "nbconvert_exporter": "python",
   "pygments_lexer": "ipython3",
   "version": "3.6.10"
  }
 },
 "nbformat": 4,
 "nbformat_minor": 4
}
