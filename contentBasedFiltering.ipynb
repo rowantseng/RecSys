{
 "cells": [
  {
   "cell_type": "markdown",
   "metadata": {},
   "source": [
    "# Content-Based Recommender"
   ]
  },
  {
   "cell_type": "code",
   "execution_count": 1,
   "metadata": {},
   "outputs": [],
   "source": [
    "import re\n",
    "import numpy as np\n",
    "import pandas as pd\n",
    "from sklearn.feature_extraction.text import TfidfVectorizer, CountVectorizer\n",
    "from sklearn.metrics.pairwise import cosine_similarity\n",
    "from ast import literal_eval\n",
    "from nltk.stem import SnowballStemmer"
   ]
  },
  {
   "cell_type": "markdown",
   "metadata": {},
   "source": [
    "## Description Based Recommender\n",
    "1. Computes similarity between movies using taglines and overview\n",
    "2. Find the most similar movies to a particular movie\n",
    "3. Suggest found movies to the user who liked the particular movie"
   ]
  },
  {
   "cell_type": "markdown",
   "metadata": {},
   "source": [
    "### Load Data"
   ]
  },
  {
   "cell_type": "code",
   "execution_count": 2,
   "metadata": {},
   "outputs": [
    {
     "name": "stdout",
     "output_type": "stream",
     "text": [
      "Total 9099 data\n"
     ]
    },
    {
     "name": "stderr",
     "output_type": "stream",
     "text": [
      "/Users/rowantseng/anaconda3/envs/latest-pytorch/lib/python3.6/site-packages/IPython/core/interactiveshell.py:3072: DtypeWarning: Columns (10) have mixed types.Specify dtype option on import or set low_memory=False.\n",
      "  interactivity=interactivity, compiler=compiler, result=result)\n"
     ]
    }
   ],
   "source": [
    "md = pd.read_csv(\"../data/movies/movies_metadata.csv\")\n",
    "links = pd.read_csv(\"../data/movies/links_small.csv\")\n",
    "links = links[links[\"tmdbId\"].notnull()][\"tmdbId\"].astype(\"int\")\n",
    "\n",
    "# Drop rows with bad id value, such as `1997-08-20`\n",
    "md = md.drop([19730, 29503, 35587])\n",
    "\n",
    "# Choose only useful columns\n",
    "md = md[[\"id\", \"title\", \"tagline\", \"overview\"]]\n",
    "\n",
    "# Filter data excluding from the defined set\n",
    "md[\"id\"] = md[\"id\"].astype(\"int\")\n",
    "md = md[md[\"id\"].isin(links)]\n",
    "md.reset_index(inplace=True, drop=True)\n",
    "print(f\"Total {md.shape[0]} data\")"
   ]
  },
  {
   "cell_type": "code",
   "execution_count": 3,
   "metadata": {},
   "outputs": [
    {
     "data": {
      "text/html": [
       "<div>\n",
       "<style scoped>\n",
       "    .dataframe tbody tr th:only-of-type {\n",
       "        vertical-align: middle;\n",
       "    }\n",
       "\n",
       "    .dataframe tbody tr th {\n",
       "        vertical-align: top;\n",
       "    }\n",
       "\n",
       "    .dataframe thead th {\n",
       "        text-align: right;\n",
       "    }\n",
       "</style>\n",
       "<table border=\"1\" class=\"dataframe\">\n",
       "  <thead>\n",
       "    <tr style=\"text-align: right;\">\n",
       "      <th></th>\n",
       "      <th>id</th>\n",
       "      <th>title</th>\n",
       "      <th>tagline</th>\n",
       "      <th>overview</th>\n",
       "    </tr>\n",
       "  </thead>\n",
       "  <tbody>\n",
       "    <tr>\n",
       "      <th>0</th>\n",
       "      <td>862</td>\n",
       "      <td>Toy Story</td>\n",
       "      <td>NaN</td>\n",
       "      <td>Led by Woody, Andy's toys live happily in his ...</td>\n",
       "    </tr>\n",
       "    <tr>\n",
       "      <th>1</th>\n",
       "      <td>8844</td>\n",
       "      <td>Jumanji</td>\n",
       "      <td>Roll the dice and unleash the excitement!</td>\n",
       "      <td>When siblings Judy and Peter discover an encha...</td>\n",
       "    </tr>\n",
       "    <tr>\n",
       "      <th>2</th>\n",
       "      <td>15602</td>\n",
       "      <td>Grumpier Old Men</td>\n",
       "      <td>Still Yelling. Still Fighting. Still Ready for...</td>\n",
       "      <td>A family wedding reignites the ancient feud be...</td>\n",
       "    </tr>\n",
       "    <tr>\n",
       "      <th>3</th>\n",
       "      <td>31357</td>\n",
       "      <td>Waiting to Exhale</td>\n",
       "      <td>Friends are the people who let you be yourself...</td>\n",
       "      <td>Cheated on, mistreated and stepped on, the wom...</td>\n",
       "    </tr>\n",
       "    <tr>\n",
       "      <th>4</th>\n",
       "      <td>11862</td>\n",
       "      <td>Father of the Bride Part II</td>\n",
       "      <td>Just When His World Is Back To Normal... He's ...</td>\n",
       "      <td>Just when George Banks has recovered from his ...</td>\n",
       "    </tr>\n",
       "  </tbody>\n",
       "</table>\n",
       "</div>"
      ],
      "text/plain": [
       "      id                        title  \\\n",
       "0    862                    Toy Story   \n",
       "1   8844                      Jumanji   \n",
       "2  15602             Grumpier Old Men   \n",
       "3  31357            Waiting to Exhale   \n",
       "4  11862  Father of the Bride Part II   \n",
       "\n",
       "                                             tagline  \\\n",
       "0                                                NaN   \n",
       "1          Roll the dice and unleash the excitement!   \n",
       "2  Still Yelling. Still Fighting. Still Ready for...   \n",
       "3  Friends are the people who let you be yourself...   \n",
       "4  Just When His World Is Back To Normal... He's ...   \n",
       "\n",
       "                                            overview  \n",
       "0  Led by Woody, Andy's toys live happily in his ...  \n",
       "1  When siblings Judy and Peter discover an encha...  \n",
       "2  A family wedding reignites the ancient feud be...  \n",
       "3  Cheated on, mistreated and stepped on, the wom...  \n",
       "4  Just when George Banks has recovered from his ...  "
      ]
     },
     "execution_count": 3,
     "metadata": {},
     "output_type": "execute_result"
    }
   ],
   "source": [
    "md.head()"
   ]
  },
  {
   "cell_type": "markdown",
   "metadata": {},
   "source": [
    "### Prepare Features"
   ]
  },
  {
   "cell_type": "code",
   "execution_count": 4,
   "metadata": {},
   "outputs": [],
   "source": [
    "md[\"tagline\"] = md[\"tagline\"].fillna(\"\")\n",
    "md[\"overview\"] = md[\"overview\"].fillna(\"\")\n",
    "\n",
    "md[\"desc\"] = md[\"tagline\"] + md[\"overview\"]"
   ]
  },
  {
   "cell_type": "code",
   "execution_count": 5,
   "metadata": {},
   "outputs": [
    {
     "data": {
      "text/plain": [
       "0    Led by Woody, Andy's toys live happily in his ...\n",
       "1    Roll the dice and unleash the excitement!When ...\n",
       "2    Still Yelling. Still Fighting. Still Ready for...\n",
       "3    Friends are the people who let you be yourself...\n",
       "4    Just When His World Is Back To Normal... He's ...\n",
       "Name: desc, dtype: object"
      ]
     },
     "execution_count": 5,
     "metadata": {},
     "output_type": "execute_result"
    }
   ],
   "source": [
    "md[\"desc\"].head()"
   ]
  },
  {
   "cell_type": "markdown",
   "metadata": {},
   "source": [
    "### Transform Words in Tagline and Overview to TF-IDF Vectors"
   ]
  },
  {
   "cell_type": "code",
   "execution_count": 6,
   "metadata": {},
   "outputs": [],
   "source": [
    "vectorizer = TfidfVectorizer(ngram_range=(1, 2), stop_words=\"english\")\n",
    "tfidf = vectorizer.fit_transform(md[\"desc\"])"
   ]
  },
  {
   "cell_type": "markdown",
   "metadata": {},
   "source": [
    "### Compute Cosine Similarities"
   ]
  },
  {
   "cell_type": "code",
   "execution_count": 7,
   "metadata": {},
   "outputs": [],
   "source": [
    "dists = cosine_similarity(tfidf, tfidf)"
   ]
  },
  {
   "cell_type": "markdown",
   "metadata": {},
   "source": [
    "### Make Recommendations"
   ]
  },
  {
   "cell_type": "code",
   "execution_count": 8,
   "metadata": {},
   "outputs": [],
   "source": [
    "def getTopkRecommendations(title, metadataDf, similarities, topk=5):\n",
    "    idx = metadataDf.index[metadataDf[\"title\"] == title].tolist()\n",
    "    if len(idx) == 0:\n",
    "        raise ValueError(\"Title not found!\")\n",
    "    # Choose 1st item and its similarity arr\n",
    "    idx = idx[0]\n",
    "    sim = similarities[idx]\n",
    "    # Set similarity of the given title to the minimum\n",
    "    sim[idx] = sim.min()\n",
    "    # Desc sort \n",
    "    indices = np.argpartition(-sim, 1+topk)[1:1+topk]\n",
    "    return metadataDf.iloc[indices, :][\"title\"].tolist()"
   ]
  },
  {
   "cell_type": "code",
   "execution_count": 9,
   "metadata": {},
   "outputs": [
    {
     "name": "stdout",
     "output_type": "stream",
     "text": [
      "['Gattaca', 'All Good Things', 'Stargate', 'Final Destination 2', 'Space Cowboys']\n",
      "['Crumb', 'Lone Star', 'Renaissance', 'House', 'The Pink Panther']\n",
      "['Les Misérables', 'The Blue Dahlia', 'Chasers', 'The Woodsman', 'Breakout']\n",
      "['Delirious', 'Margin Call', 'Top Five', 'Nurse Betty', 'Anchorman 2: The Legend Continues']\n",
      "['Made', 'The Godfather: Part II', 'The Family', 'Fury', 'Shanghai Triad']\n"
     ]
    }
   ],
   "source": [
    "topkTitles = getTopkRecommendations(\"Interstellar\", md, dists)\n",
    "print(topkTitles)\n",
    "\n",
    "topkTitles = getTopkRecommendations(\"Inception\", md, dists)\n",
    "print(topkTitles)\n",
    "\n",
    "topkTitles = getTopkRecommendations(\"The Shawshank Redemption\", md, dists)\n",
    "print(topkTitles)\n",
    "\n",
    "topkTitles = getTopkRecommendations(\"The Truman Show\", md, dists)\n",
    "print(topkTitles)\n",
    "\n",
    "topkTitles = getTopkRecommendations(\"The Godfather\", md, dists)\n",
    "print(topkTitles)"
   ]
  },
  {
   "cell_type": "code",
   "execution_count": 10,
   "metadata": {},
   "outputs": [],
   "source": [
    "np.save(\"contentSim/descSim\", dists)\n",
    "md.to_csv(\"contentSim/descFeatures.csv\", index=False)"
   ]
  },
  {
   "cell_type": "markdown",
   "metadata": {},
   "source": [
    "## Metadata Based Recommender\n",
    "1. Computes similarity between movies using metadata including genres, crew, cast and keywords\n",
    "2. Find the most similar movies to a particular movie\n",
    "3. Suggest found movies to the user who liked the particular movie"
   ]
  },
  {
   "cell_type": "markdown",
   "metadata": {},
   "source": [
    "### Load Data and Merge Three Dataframes by IDs"
   ]
  },
  {
   "cell_type": "code",
   "execution_count": 11,
   "metadata": {},
   "outputs": [
    {
     "name": "stderr",
     "output_type": "stream",
     "text": [
      "/Users/rowantseng/anaconda3/envs/latest-pytorch/lib/python3.6/site-packages/IPython/core/interactiveshell.py:3072: DtypeWarning: Columns (10) have mixed types.Specify dtype option on import or set low_memory=False.\n",
      "  interactivity=interactivity, compiler=compiler, result=result)\n"
     ]
    },
    {
     "name": "stdout",
     "output_type": "stream",
     "text": [
      "Total 9099 data\n"
     ]
    }
   ],
   "source": [
    "md = pd.read_csv(\"../data/movies/movies_metadata.csv\")\n",
    "links = pd.read_csv(\"../data/movies/links_small.csv\")\n",
    "links = links[links[\"tmdbId\"].notnull()][\"tmdbId\"].astype(\"int\")\n",
    "credits = pd.read_csv(\"../data/movies/credits.csv\")\n",
    "keywords = pd.read_csv(\"../data/movies/keywords.csv\")\n",
    "\n",
    "# Drop rows with bad id value, such as `1997-08-20`\n",
    "md = md.drop([19730, 29503, 35587])\n",
    "\n",
    "# Choose only useful columns\n",
    "md = md[[\"id\", \"genres\", \"title\"]]\n",
    "\n",
    "# Filter data excluding from the defined set\n",
    "md[\"id\"] = md[\"id\"].astype(\"int\")\n",
    "md = md[md[\"id\"].isin(links)]\n",
    "md.reset_index(inplace=True, drop=True)\n",
    "print(f\"Total {md.shape[0]} data\")\n",
    "\n",
    "md[\"id\"] = md[\"id\"].astype(\"int\")\n",
    "keywords[\"id\"] = keywords[\"id\"].astype(\"int\")\n",
    "credits[\"id\"] = credits[\"id\"].astype(\"int\")\n",
    "\n",
    "md = md.merge(credits, on=\"id\")\n",
    "md = md.merge(keywords, on=\"id\")"
   ]
  },
  {
   "cell_type": "code",
   "execution_count": 12,
   "metadata": {},
   "outputs": [
    {
     "data": {
      "text/html": [
       "<div>\n",
       "<style scoped>\n",
       "    .dataframe tbody tr th:only-of-type {\n",
       "        vertical-align: middle;\n",
       "    }\n",
       "\n",
       "    .dataframe tbody tr th {\n",
       "        vertical-align: top;\n",
       "    }\n",
       "\n",
       "    .dataframe thead th {\n",
       "        text-align: right;\n",
       "    }\n",
       "</style>\n",
       "<table border=\"1\" class=\"dataframe\">\n",
       "  <thead>\n",
       "    <tr style=\"text-align: right;\">\n",
       "      <th></th>\n",
       "      <th>id</th>\n",
       "      <th>genres</th>\n",
       "      <th>title</th>\n",
       "      <th>cast</th>\n",
       "      <th>crew</th>\n",
       "      <th>keywords</th>\n",
       "    </tr>\n",
       "  </thead>\n",
       "  <tbody>\n",
       "    <tr>\n",
       "      <th>0</th>\n",
       "      <td>862</td>\n",
       "      <td>[{'id': 16, 'name': 'Animation'}, {'id': 35, '...</td>\n",
       "      <td>Toy Story</td>\n",
       "      <td>[{'cast_id': 14, 'character': 'Woody (voice)',...</td>\n",
       "      <td>[{'credit_id': '52fe4284c3a36847f8024f49', 'de...</td>\n",
       "      <td>[{'id': 931, 'name': 'jealousy'}, {'id': 4290,...</td>\n",
       "    </tr>\n",
       "    <tr>\n",
       "      <th>1</th>\n",
       "      <td>8844</td>\n",
       "      <td>[{'id': 12, 'name': 'Adventure'}, {'id': 14, '...</td>\n",
       "      <td>Jumanji</td>\n",
       "      <td>[{'cast_id': 1, 'character': 'Alan Parrish', '...</td>\n",
       "      <td>[{'credit_id': '52fe44bfc3a36847f80a7cd1', 'de...</td>\n",
       "      <td>[{'id': 10090, 'name': 'board game'}, {'id': 1...</td>\n",
       "    </tr>\n",
       "    <tr>\n",
       "      <th>2</th>\n",
       "      <td>15602</td>\n",
       "      <td>[{'id': 10749, 'name': 'Romance'}, {'id': 35, ...</td>\n",
       "      <td>Grumpier Old Men</td>\n",
       "      <td>[{'cast_id': 2, 'character': 'Max Goldman', 'c...</td>\n",
       "      <td>[{'credit_id': '52fe466a9251416c75077a89', 'de...</td>\n",
       "      <td>[{'id': 1495, 'name': 'fishing'}, {'id': 12392...</td>\n",
       "    </tr>\n",
       "    <tr>\n",
       "      <th>3</th>\n",
       "      <td>31357</td>\n",
       "      <td>[{'id': 35, 'name': 'Comedy'}, {'id': 18, 'nam...</td>\n",
       "      <td>Waiting to Exhale</td>\n",
       "      <td>[{'cast_id': 1, 'character': \"Savannah 'Vannah...</td>\n",
       "      <td>[{'credit_id': '52fe44779251416c91011acb', 'de...</td>\n",
       "      <td>[{'id': 818, 'name': 'based on novel'}, {'id':...</td>\n",
       "    </tr>\n",
       "    <tr>\n",
       "      <th>4</th>\n",
       "      <td>11862</td>\n",
       "      <td>[{'id': 35, 'name': 'Comedy'}]</td>\n",
       "      <td>Father of the Bride Part II</td>\n",
       "      <td>[{'cast_id': 1, 'character': 'George Banks', '...</td>\n",
       "      <td>[{'credit_id': '52fe44959251416c75039ed7', 'de...</td>\n",
       "      <td>[{'id': 1009, 'name': 'baby'}, {'id': 1599, 'n...</td>\n",
       "    </tr>\n",
       "  </tbody>\n",
       "</table>\n",
       "</div>"
      ],
      "text/plain": [
       "      id                                             genres  \\\n",
       "0    862  [{'id': 16, 'name': 'Animation'}, {'id': 35, '...   \n",
       "1   8844  [{'id': 12, 'name': 'Adventure'}, {'id': 14, '...   \n",
       "2  15602  [{'id': 10749, 'name': 'Romance'}, {'id': 35, ...   \n",
       "3  31357  [{'id': 35, 'name': 'Comedy'}, {'id': 18, 'nam...   \n",
       "4  11862                     [{'id': 35, 'name': 'Comedy'}]   \n",
       "\n",
       "                         title  \\\n",
       "0                    Toy Story   \n",
       "1                      Jumanji   \n",
       "2             Grumpier Old Men   \n",
       "3            Waiting to Exhale   \n",
       "4  Father of the Bride Part II   \n",
       "\n",
       "                                                cast  \\\n",
       "0  [{'cast_id': 14, 'character': 'Woody (voice)',...   \n",
       "1  [{'cast_id': 1, 'character': 'Alan Parrish', '...   \n",
       "2  [{'cast_id': 2, 'character': 'Max Goldman', 'c...   \n",
       "3  [{'cast_id': 1, 'character': \"Savannah 'Vannah...   \n",
       "4  [{'cast_id': 1, 'character': 'George Banks', '...   \n",
       "\n",
       "                                                crew  \\\n",
       "0  [{'credit_id': '52fe4284c3a36847f8024f49', 'de...   \n",
       "1  [{'credit_id': '52fe44bfc3a36847f80a7cd1', 'de...   \n",
       "2  [{'credit_id': '52fe466a9251416c75077a89', 'de...   \n",
       "3  [{'credit_id': '52fe44779251416c91011acb', 'de...   \n",
       "4  [{'credit_id': '52fe44959251416c75039ed7', 'de...   \n",
       "\n",
       "                                            keywords  \n",
       "0  [{'id': 931, 'name': 'jealousy'}, {'id': 4290,...  \n",
       "1  [{'id': 10090, 'name': 'board game'}, {'id': 1...  \n",
       "2  [{'id': 1495, 'name': 'fishing'}, {'id': 12392...  \n",
       "3  [{'id': 818, 'name': 'based on novel'}, {'id':...  \n",
       "4  [{'id': 1009, 'name': 'baby'}, {'id': 1599, 'n...  "
      ]
     },
     "execution_count": 12,
     "metadata": {},
     "output_type": "execute_result"
    }
   ],
   "source": [
    "md.head()"
   ]
  },
  {
   "cell_type": "markdown",
   "metadata": {},
   "source": [
    "### Transform Values Back to the Original Data Type"
   ]
  },
  {
   "cell_type": "code",
   "execution_count": 13,
   "metadata": {},
   "outputs": [],
   "source": [
    "md[\"genres\"] = md[\"genres\"].apply(literal_eval)\n",
    "md[\"cast\"] = md[\"cast\"].apply(literal_eval)\n",
    "md[\"crew\"] = md[\"crew\"].apply(literal_eval)\n",
    "md[\"keywords\"] = md[\"keywords\"].apply(literal_eval)"
   ]
  },
  {
   "cell_type": "markdown",
   "metadata": {},
   "source": [
    "### Prepro Genres"
   ]
  },
  {
   "cell_type": "code",
   "execution_count": 14,
   "metadata": {},
   "outputs": [],
   "source": [
    "def getGenres(genres):\n",
    "    if len(genres) == 0:\n",
    "        return []     \n",
    "    genres = [str(genre[\"name\"]) for genre in genres]\n",
    "    return [re.sub(r\"[^\\w]\", \"\", genre.lower()) for genre in genres]\n",
    "\n",
    "md[\"genres\"] = md[\"genres\"].apply(getGenres)"
   ]
  },
  {
   "cell_type": "markdown",
   "metadata": {},
   "source": [
    "### Prepro Crew"
   ]
  },
  {
   "cell_type": "code",
   "execution_count": 15,
   "metadata": {},
   "outputs": [],
   "source": [
    "def getDirector(crew):\n",
    "    if len(crew) == 0:\n",
    "        return []\n",
    "    return [str(person[\"name\"]) for person in crew if person[\"job\"] == \"Director\"]\n",
    "\n",
    "md[\"director\"] = md[\"crew\"].apply(getDirector)\n",
    "md = md.drop(\"crew\", 1)\n",
    "\n",
    "# Cast strings to lowercase and keep only letters\n",
    "md[\"director\"] = md[\"director\"].apply(lambda x: [re.sub(r\"[^\\w]\", \"\", name.lower()) for name in x])"
   ]
  },
  {
   "cell_type": "markdown",
   "metadata": {},
   "source": [
    "### Prepro Cast"
   ]
  },
  {
   "cell_type": "code",
   "execution_count": 16,
   "metadata": {},
   "outputs": [],
   "source": [
    "def getTopkCast(cast, topk=3):\n",
    "    if len(cast) == 0:\n",
    "        return []\n",
    "    cast = cast[:topk]\n",
    "    return [str(person[\"name\"]) for person in cast]\n",
    "  \n",
    "md[\"cast\"] = md[\"cast\"].apply(getTopkCast)\n",
    "\n",
    "# Cast strings to lowercase and keep only letters\n",
    "md[\"cast\"] = md[\"cast\"].apply(lambda x: [re.sub(r\"[^\\w]\", \"\", name.lower()) for name in x])"
   ]
  },
  {
   "cell_type": "markdown",
   "metadata": {},
   "source": [
    "### Prepro Keywords"
   ]
  },
  {
   "cell_type": "code",
   "execution_count": 17,
   "metadata": {},
   "outputs": [],
   "source": [
    "def getStemmedKeywords(keywords):\n",
    "    if len(keywords) == 0:\n",
    "        return []\n",
    "    return [stemmer.stem(keyword[\"name\"]) for keyword in keywords]\n",
    "\n",
    "stemmer = SnowballStemmer(\"english\")\n",
    "md[\"keywords\"] = md[\"keywords\"].apply(getStemmedKeywords)"
   ]
  },
  {
   "cell_type": "code",
   "execution_count": 18,
   "metadata": {},
   "outputs": [
    {
     "data": {
      "text/plain": [
       "independent film      610\n",
       "woman director        550\n",
       "murder                414\n",
       "duringcreditssting    327\n",
       "based on novel        318\n",
       "                     ... \n",
       "rhyme battl             1\n",
       "floyd                   1\n",
       "night creatur           1\n",
       "jason voorhe            1\n",
       "cyclist                 1\n",
       "Name: keywords, Length: 12430, dtype: int64"
      ]
     },
     "execution_count": 18,
     "metadata": {},
     "output_type": "execute_result"
    }
   ],
   "source": [
    "keywordCount = md[\"keywords\"].explode().value_counts()\n",
    "keywordCount"
   ]
  },
  {
   "cell_type": "code",
   "execution_count": 19,
   "metadata": {},
   "outputs": [],
   "source": [
    "useKeywords = keywordCount[keywordCount > 10].index.tolist()"
   ]
  },
  {
   "cell_type": "code",
   "execution_count": 20,
   "metadata": {},
   "outputs": [],
   "source": [
    "def processKeywords(keywords):\n",
    "    if len(keywords) == 0:\n",
    "        return []    \n",
    "    return [re.sub(r\"[^\\w]\", \"\", keyword.lower()) for keyword in keywords if keyword in useKeywords]\n",
    "    \n",
    "md[\"keywords\"] = md[\"keywords\"].apply(processKeywords)"
   ]
  },
  {
   "cell_type": "markdown",
   "metadata": {},
   "source": [
    "### Show the Final Dataframe"
   ]
  },
  {
   "cell_type": "code",
   "execution_count": 21,
   "metadata": {},
   "outputs": [
    {
     "data": {
      "text/html": [
       "<div>\n",
       "<style scoped>\n",
       "    .dataframe tbody tr th:only-of-type {\n",
       "        vertical-align: middle;\n",
       "    }\n",
       "\n",
       "    .dataframe tbody tr th {\n",
       "        vertical-align: top;\n",
       "    }\n",
       "\n",
       "    .dataframe thead th {\n",
       "        text-align: right;\n",
       "    }\n",
       "</style>\n",
       "<table border=\"1\" class=\"dataframe\">\n",
       "  <thead>\n",
       "    <tr style=\"text-align: right;\">\n",
       "      <th></th>\n",
       "      <th>id</th>\n",
       "      <th>genres</th>\n",
       "      <th>title</th>\n",
       "      <th>cast</th>\n",
       "      <th>keywords</th>\n",
       "      <th>director</th>\n",
       "    </tr>\n",
       "  </thead>\n",
       "  <tbody>\n",
       "    <tr>\n",
       "      <th>0</th>\n",
       "      <td>862</td>\n",
       "      <td>[animation, comedy, family]</td>\n",
       "      <td>Toy Story</td>\n",
       "      <td>[tomhanks, timallen, donrickles]</td>\n",
       "      <td>[jealousi, toy, boy, friendship, friend, rival...</td>\n",
       "      <td>[johnlasseter]</td>\n",
       "    </tr>\n",
       "    <tr>\n",
       "      <th>1</th>\n",
       "      <td>8844</td>\n",
       "      <td>[adventure, fantasy, family]</td>\n",
       "      <td>Jumanji</td>\n",
       "      <td>[robinwilliams, jonathanhyde, kirstendunst]</td>\n",
       "      <td>[disappear, basedonchildrensbook]</td>\n",
       "      <td>[joejohnston]</td>\n",
       "    </tr>\n",
       "    <tr>\n",
       "      <th>2</th>\n",
       "      <td>15602</td>\n",
       "      <td>[romance, comedy]</td>\n",
       "      <td>Grumpier Old Men</td>\n",
       "      <td>[waltermatthau, jacklemmon, annmargret]</td>\n",
       "      <td>[fish, bestfriend, duringcreditssting]</td>\n",
       "      <td>[howarddeutch]</td>\n",
       "    </tr>\n",
       "    <tr>\n",
       "      <th>3</th>\n",
       "      <td>31357</td>\n",
       "      <td>[comedy, drama, romance]</td>\n",
       "      <td>Waiting to Exhale</td>\n",
       "      <td>[whitneyhouston, angelabassett, lorettadevine]</td>\n",
       "      <td>[basedonnovel, interracialrelationship, single...</td>\n",
       "      <td>[forestwhitaker]</td>\n",
       "    </tr>\n",
       "    <tr>\n",
       "      <th>4</th>\n",
       "      <td>11862</td>\n",
       "      <td>[comedy]</td>\n",
       "      <td>Father of the Bride Part II</td>\n",
       "      <td>[stevemartin, dianekeaton, martinshort]</td>\n",
       "      <td>[babi, midlifecrisi, confid, age, daughter, mo...</td>\n",
       "      <td>[charlesshyer]</td>\n",
       "    </tr>\n",
       "  </tbody>\n",
       "</table>\n",
       "</div>"
      ],
      "text/plain": [
       "      id                        genres                        title  \\\n",
       "0    862   [animation, comedy, family]                    Toy Story   \n",
       "1   8844  [adventure, fantasy, family]                      Jumanji   \n",
       "2  15602             [romance, comedy]             Grumpier Old Men   \n",
       "3  31357      [comedy, drama, romance]            Waiting to Exhale   \n",
       "4  11862                      [comedy]  Father of the Bride Part II   \n",
       "\n",
       "                                             cast  \\\n",
       "0                [tomhanks, timallen, donrickles]   \n",
       "1     [robinwilliams, jonathanhyde, kirstendunst]   \n",
       "2         [waltermatthau, jacklemmon, annmargret]   \n",
       "3  [whitneyhouston, angelabassett, lorettadevine]   \n",
       "4         [stevemartin, dianekeaton, martinshort]   \n",
       "\n",
       "                                            keywords          director  \n",
       "0  [jealousi, toy, boy, friendship, friend, rival...    [johnlasseter]  \n",
       "1                  [disappear, basedonchildrensbook]     [joejohnston]  \n",
       "2             [fish, bestfriend, duringcreditssting]    [howarddeutch]  \n",
       "3  [basedonnovel, interracialrelationship, single...  [forestwhitaker]  \n",
       "4  [babi, midlifecrisi, confid, age, daughter, mo...    [charlesshyer]  "
      ]
     },
     "execution_count": 21,
     "metadata": {},
     "output_type": "execute_result"
    }
   ],
   "source": [
    "md.head()"
   ]
  },
  {
   "cell_type": "markdown",
   "metadata": {},
   "source": [
    "### Gather All Features"
   ]
  },
  {
   "cell_type": "code",
   "execution_count": 22,
   "metadata": {},
   "outputs": [],
   "source": [
    "md[\"desc\"] = md[\"genres\"] + md[\"cast\"] + md[\"keywords\"] + md[\"director\"]\n",
    "md[\"desc\"] = md[\"desc\"].apply(lambda x: \" \".join(x))"
   ]
  },
  {
   "cell_type": "markdown",
   "metadata": {},
   "source": [
    "### Transform Genres, Cast, Directors, and Keywords to Count Vectors"
   ]
  },
  {
   "cell_type": "code",
   "execution_count": 23,
   "metadata": {},
   "outputs": [],
   "source": [
    "vectorizer = CountVectorizer(ngram_range=(1, 2), stop_words=\"english\")\n",
    "counter = vectorizer.fit_transform(md[\"desc\"])"
   ]
  },
  {
   "cell_type": "markdown",
   "metadata": {},
   "source": [
    "### Compute Cosine Similarities"
   ]
  },
  {
   "cell_type": "code",
   "execution_count": 24,
   "metadata": {},
   "outputs": [],
   "source": [
    "dists = cosine_similarity(counter, counter)"
   ]
  },
  {
   "cell_type": "markdown",
   "metadata": {},
   "source": [
    "### Make Recommendations"
   ]
  },
  {
   "cell_type": "code",
   "execution_count": 25,
   "metadata": {},
   "outputs": [
    {
     "name": "stdout",
     "output_type": "stream",
     "text": [
      "['The Martian', 'Apollo 13', 'Midnight Special', 'Planet of the Apes', 'Approaching the Unknown']\n",
      "['Sky Captain and the World of Tomorrow', 'The Core', 'I Am Number Four', 'Jurassic Park III', 'Green Lantern']\n",
      "['Murder in the First', 'Mitchell', 'The Bad Lieutenant: Port of Call - New Orleans', 'Ariel', 'Le Cercle Rouge']\n",
      "['Swimming to Cambodia', 'Hyde Park on Hudson', 'Beautiful Girls', 'The Squid and the Whale', 'Green Card']\n",
      "['The Godfather: Part II', 'The Gambler', 'The Rainmaker', 'Mitchell', 'The Cotton Club']\n"
     ]
    }
   ],
   "source": [
    "topkTitles = getTopkRecommendations(\"Interstellar\", md, dists)\n",
    "print(topkTitles)\n",
    "\n",
    "topkTitles = getTopkRecommendations(\"Inception\", md, dists)\n",
    "print(topkTitles)\n",
    "\n",
    "topkTitles = getTopkRecommendations(\"The Shawshank Redemption\", md, dists)\n",
    "print(topkTitles)\n",
    "\n",
    "topkTitles = getTopkRecommendations(\"The Truman Show\", md, dists)\n",
    "print(topkTitles)\n",
    "\n",
    "topkTitles = getTopkRecommendations(\"The Godfather\", md, dists)\n",
    "print(topkTitles)"
   ]
  },
  {
   "cell_type": "code",
   "execution_count": 26,
   "metadata": {},
   "outputs": [],
   "source": [
    "np.save(\"contentSim/metaSim\", dists)\n",
    "md.to_csv(\"contentSim/metaFeatures.csv\", index=False)"
   ]
  }
 ],
 "metadata": {
  "kernelspec": {
   "display_name": "Python 3",
   "language": "python",
   "name": "python3"
  },
  "language_info": {
   "codemirror_mode": {
    "name": "ipython",
    "version": 3
   },
   "file_extension": ".py",
   "mimetype": "text/x-python",
   "name": "python",
   "nbconvert_exporter": "python",
   "pygments_lexer": "ipython3",
   "version": "3.6.10"
  }
 },
 "nbformat": 4,
 "nbformat_minor": 4
}