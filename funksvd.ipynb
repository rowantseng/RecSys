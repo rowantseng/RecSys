{
 "cells": [
  {
   "cell_type": "markdown",
   "metadata": {},
   "source": [
    "# This script is built for implementation of FunkSVD"
   ]
  },
  {
   "cell_type": "code",
   "execution_count": 1,
   "metadata": {},
   "outputs": [],
   "source": [
    "#!/usr/bin/python\n",
    "# -*- coding: UTF-8 -*-\n",
    "import random\n",
    "import pandas as pd\n",
    "import numpy as np\n",
    "from collections import Counter\n",
    "\n",
    "seed=15\n",
    "random.seed(seed)\n",
    "np.random.seed(seed=seed)"
   ]
  },
  {
   "cell_type": "markdown",
   "metadata": {},
   "source": [
    "## Load Data"
   ]
  },
  {
   "cell_type": "code",
   "execution_count": 2,
   "metadata": {},
   "outputs": [
    {
     "data": {
      "text/html": [
       "<div>\n",
       "<style scoped>\n",
       "    .dataframe tbody tr th:only-of-type {\n",
       "        vertical-align: middle;\n",
       "    }\n",
       "\n",
       "    .dataframe tbody tr th {\n",
       "        vertical-align: top;\n",
       "    }\n",
       "\n",
       "    .dataframe thead th {\n",
       "        text-align: right;\n",
       "    }\n",
       "</style>\n",
       "<table border=\"1\" class=\"dataframe\">\n",
       "  <thead>\n",
       "    <tr style=\"text-align: right;\">\n",
       "      <th></th>\n",
       "      <th>userId</th>\n",
       "      <th>movieId</th>\n",
       "      <th>rating</th>\n",
       "    </tr>\n",
       "  </thead>\n",
       "  <tbody>\n",
       "    <tr>\n",
       "      <th>0</th>\n",
       "      <td>1</td>\n",
       "      <td>31</td>\n",
       "      <td>2.5</td>\n",
       "    </tr>\n",
       "    <tr>\n",
       "      <th>1</th>\n",
       "      <td>1</td>\n",
       "      <td>1029</td>\n",
       "      <td>3.0</td>\n",
       "    </tr>\n",
       "    <tr>\n",
       "      <th>2</th>\n",
       "      <td>1</td>\n",
       "      <td>1061</td>\n",
       "      <td>3.0</td>\n",
       "    </tr>\n",
       "    <tr>\n",
       "      <th>3</th>\n",
       "      <td>1</td>\n",
       "      <td>1129</td>\n",
       "      <td>2.0</td>\n",
       "    </tr>\n",
       "    <tr>\n",
       "      <th>4</th>\n",
       "      <td>1</td>\n",
       "      <td>1172</td>\n",
       "      <td>4.0</td>\n",
       "    </tr>\n",
       "  </tbody>\n",
       "</table>\n",
       "</div>"
      ],
      "text/plain": [
       "   userId  movieId  rating\n",
       "0       1       31     2.5\n",
       "1       1     1029     3.0\n",
       "2       1     1061     3.0\n",
       "3       1     1129     2.0\n",
       "4       1     1172     4.0"
      ]
     },
     "execution_count": 2,
     "metadata": {},
     "output_type": "execute_result"
    }
   ],
   "source": [
    "df = pd.read_csv(\"../data/movies/ratings_small.csv\")\n",
    "df = df.drop([\"timestamp\"], axis=1)\n",
    "df = df[~df[\"rating\"].isna()]\n",
    "df.head()"
   ]
  },
  {
   "cell_type": "markdown",
   "metadata": {},
   "source": [
    "## Find Unique Users and Items. Then, Map to Pre-Defined IDs"
   ]
  },
  {
   "cell_type": "code",
   "execution_count": 3,
   "metadata": {},
   "outputs": [
    {
     "name": "stdout",
     "output_type": "stream",
     "text": [
      "Total 671 users and 9066 items\n"
     ]
    }
   ],
   "source": [
    "uniqueUsers = df[\"userId\"].unique()\n",
    "uniqueItems = df[\"movieId\"].unique()\n",
    "userNum = len(uniqueUsers)\n",
    "itemNum = len(uniqueItems)\n",
    "print(f\"Total {userNum} users and {itemNum} items\")\n",
    "\n",
    "# Build mapper for users and items\n",
    "userMapper = dict(zip(uniqueUsers, range(userNum)))\n",
    "itemMapper = dict(zip(uniqueItems, range(itemNum)))\n",
    "\n",
    "df[\"userId\"] = df[\"userId\"].apply(lambda x: userMapper[x])\n",
    "df[\"movieId\"] = df[\"movieId\"].apply(lambda x: itemMapper[x])"
   ]
  },
  {
   "cell_type": "markdown",
   "metadata": {},
   "source": [
    "## Split Data"
   ]
  },
  {
   "cell_type": "code",
   "execution_count": 4,
   "metadata": {},
   "outputs": [
    {
     "name": "stdout",
     "output_type": "stream",
     "text": [
      "Train dataframe has shape: (60002, 3)\n",
      "Valid dataframe has shape: (40002, 3)\n"
     ]
    }
   ],
   "source": [
    "validRatingMatrix = df.sample(frac=0.4, random_state=seed)\n",
    "trainRatingMatrix = df.drop(index=validRatingMatrix.index)\n",
    "print(f\"Train dataframe has shape: {trainRatingMatrix.shape}\")\n",
    "print(f\"Valid dataframe has shape: {validRatingMatrix.shape}\")\n",
    "\n",
    "trainRatingMatrix = trainRatingMatrix.to_numpy()\n",
    "validRatingMatrix = validRatingMatrix.to_numpy()"
   ]
  },
  {
   "cell_type": "markdown",
   "metadata": {},
   "source": [
    "## Shuffle"
   ]
  },
  {
   "cell_type": "code",
   "execution_count": 5,
   "metadata": {},
   "outputs": [],
   "source": [
    "indices = np.arange(trainRatingMatrix.shape[0])\n",
    "np.random.shuffle(indices)\n",
    "\n",
    "trainRatingMatrix = trainRatingMatrix[indices]"
   ]
  },
  {
   "cell_type": "markdown",
   "metadata": {},
   "source": [
    "## Normalize"
   ]
  },
  {
   "cell_type": "code",
   "execution_count": 6,
   "metadata": {},
   "outputs": [
    {
     "name": "stdout",
     "output_type": "stream",
     "text": [
      "Ratings have mean=3.538, std=1.060\n"
     ]
    }
   ],
   "source": [
    "trainRatings = trainRatingMatrix[:, 2].astype(np.float32)\n",
    "trainUserItems = trainRatingMatrix[:, :2].astype(np.int)\n",
    "\n",
    "validRatings = validRatingMatrix[:, 2].astype(np.float32)\n",
    "validUserItems = validRatingMatrix[:, :2].astype(np.int)\n",
    "\n",
    "ratingMean, ratingStd = np.mean(trainRatings), np.std(trainRatings)\n",
    "print(f\"Ratings have mean={ratingMean:.3f}, std={ratingStd:.3f}\")\n",
    "trainRatings -= ratingMean\n",
    "trainRatings /= ratingStd\n",
    "validRatings -= ratingMean\n",
    "validRatings /= ratingStd"
   ]
  },
  {
   "cell_type": "markdown",
   "metadata": {},
   "source": [
    "## Hyperparameters"
   ]
  },
  {
   "cell_type": "code",
   "execution_count": 7,
   "metadata": {},
   "outputs": [],
   "source": [
    "# Set for training\n",
    "featureNum = 10\n",
    "lr = 8e-3\n",
    "decayRate = 0.9\n",
    "epochs = 50\n",
    "bestMse = 1e6\n",
    "\n",
    "# Set for regularization\n",
    "regRate = 1e-2\n",
    "\n",
    "# Set for display\n",
    "showInterval = 10"
   ]
  },
  {
   "cell_type": "markdown",
   "metadata": {},
   "source": [
    "## Train and Validate"
   ]
  },
  {
   "cell_type": "code",
   "execution_count": 8,
   "metadata": {},
   "outputs": [
    {
     "name": "stdout",
     "output_type": "stream",
     "text": [
      "Save the best model at epoch=1, mse=1.595, mae=1.121\n",
      "Save the best model at epoch=2, mse=1.139, mae=0.947\n",
      "Save the best model at epoch=3, mse=0.969, mae=0.876\n",
      "Save the best model at epoch=4, mse=0.880, mae=0.838\n",
      "Save the best model at epoch=5, mse=0.827, mae=0.814\n",
      "Save the best model at epoch=6, mse=0.791, mae=0.798\n",
      "Save the best model at epoch=7, mse=0.766, mae=0.787\n",
      "Save the best model at epoch=8, mse=0.747, mae=0.778\n",
      "Save the best model at epoch=9, mse=0.733, mae=0.771\n",
      "Save the best model at epoch=10, mse=0.722, mae=0.766\n",
      "\n",
      "--------------------------------------------------\n",
      "(Epoch 10)\n",
      "MSE: train:0.648, valid:0.722\n",
      "MAE: train:0.937, valid:0.766\n",
      "--------------------------------------------------\n",
      "\n",
      "Save the best model at epoch=11, mse=0.713, mae=0.762\n",
      "Save the best model at epoch=12, mse=0.706, mae=0.759\n",
      "Save the best model at epoch=13, mse=0.700, mae=0.756\n",
      "Save the best model at epoch=14, mse=0.696, mae=0.753\n",
      "Save the best model at epoch=15, mse=0.692, mae=0.752\n",
      "Save the best model at epoch=16, mse=0.689, mae=0.750\n",
      "Save the best model at epoch=17, mse=0.686, mae=0.749\n",
      "Save the best model at epoch=18, mse=0.684, mae=0.748\n",
      "Save the best model at epoch=19, mse=0.682, mae=0.747\n",
      "Save the best model at epoch=20, mse=0.680, mae=0.746\n",
      "\n",
      "--------------------------------------------------\n",
      "(Epoch 20)\n",
      "MSE: train:0.562, valid:0.680\n",
      "MAE: train:0.868, valid:0.746\n",
      "--------------------------------------------------\n",
      "\n",
      "***Set learning rate to 0.0072\n",
      "Save the best model at epoch=21, mse=0.679, mae=0.745\n",
      "Save the best model at epoch=22, mse=0.678, mae=0.745\n",
      "Save the best model at epoch=23, mse=0.677, mae=0.744\n",
      "Save the best model at epoch=24, mse=0.677, mae=0.744\n",
      "Save the best model at epoch=25, mse=0.676, mae=0.744\n",
      "Save the best model at epoch=26, mse=0.676, mae=0.744\n",
      "Save the best model at epoch=27, mse=0.676, mae=0.744\n",
      "Save the best model at epoch=28, mse=0.676, mae=0.744\n",
      "\n",
      "--------------------------------------------------\n",
      "(Epoch 30)\n",
      "MSE: train:0.524, valid:0.676\n",
      "MAE: train:0.834, valid:0.744\n",
      "--------------------------------------------------\n",
      "\n",
      "\n",
      "--------------------------------------------------\n",
      "(Epoch 40)\n",
      "MSE: train:0.498, valid:0.681\n",
      "MAE: train:0.811, valid:0.747\n",
      "--------------------------------------------------\n",
      "\n",
      "***Set learning rate to 0.0065\n",
      "\n",
      "--------------------------------------------------\n",
      "(Epoch 50)\n",
      "MSE: train:0.477, valid:0.687\n",
      "MAE: train:0.792, valid:0.750\n",
      "--------------------------------------------------\n",
      "\n"
     ]
    }
   ],
   "source": [
    "userMatrix = np.random.randn(userNum, featureNum).astype(np.float32)\n",
    "itemMatrix = np.random.randn(itemNum, featureNum).astype(np.float32)\n",
    "userBias = np.zeros(userNum).astype(np.float32)\n",
    "itemBias = np.zeros(itemNum).astype(np.float32)\n",
    "    \n",
    "trainMses, trainMaes = [0] * epochs, [0] * epochs\n",
    "validMses, validMaes = [0] * epochs, [0] * epochs\n",
    "    \n",
    "for epoch in range(epochs):\n",
    "    if epoch > 0 and epoch % 20 == 0:\n",
    "        lr *= decayRate\n",
    "        print(f\"***Set learning rate to {lr:.4f}\")\n",
    "        \n",
    "    # ==========\n",
    "    # Train\n",
    "    # ==========\n",
    "    for ((u, i), r) in zip(trainUserItems, trainRatings):  \n",
    "        pred = np.dot(userMatrix[u, :], itemMatrix[i, :]) + userBias[u] + itemBias[i]\n",
    "        diff = r - pred\n",
    "        trainMses[epoch] += diff ** 2\n",
    "        trainMaes[epoch] += abs(diff)\n",
    "\n",
    "        for k in range(featureNum):\n",
    "            userMatrix[u, k] += lr * (diff * itemMatrix[i, k] - regRate * userMatrix[u, k])\n",
    "            itemMatrix[i, k] += lr * (diff * userMatrix[u, k] - regRate * itemMatrix[i, k])\n",
    "\n",
    "        userBias[u] += lr * (diff - regRate * userBias[u])\n",
    "        itemBias[i] += lr * (diff - regRate * itemBias[i])\n",
    "\n",
    "    # ==========\n",
    "    # Validation\n",
    "    # ==========\n",
    "    for ((u, i), r) in zip(validUserItems, validRatings):\n",
    "        pred = np.dot(userMatrix[u, :], itemMatrix[i, :]) + userBias[u] + itemBias[i]\n",
    "        diff = r - pred\n",
    "        validMses[epoch] += diff ** 2\n",
    "        validMaes[epoch] += abs(diff)\n",
    "\n",
    "    trainMses[epoch] /= trainRatings.shape[0]\n",
    "    validMses[epoch] /= trainRatings.shape[0]\n",
    "    trainMaes[epoch] /= validRatings.shape[0]\n",
    "    validMaes[epoch] /= validRatings.shape[0]\n",
    "\n",
    "    # If model is the best, save matrices\n",
    "    isbest = validMses[epoch] < bestMse\n",
    "    bestMse = min(validMses[epoch], bestMse)\n",
    "    if isbest:\n",
    "        with open(\"funksvd/userMatrix.npy\", \"wb\") as f:\n",
    "            np.save(f, userMatrix)\n",
    "        with open(\"funksvd/itemMatrix.npy\", \"wb\") as f:\n",
    "            np.save(f, itemMatrix)\n",
    "        print(f\"Save the best model at epoch={epoch+1}, mse={validMses[epoch]:.3f}, mae={validMaes[epoch]:.3f}\")\n",
    "        \n",
    "    # Display stats\n",
    "    if (epoch+1) % showInterval == 0:\n",
    "        print(f\"\\n{'-' * 50}\")\n",
    "        print(f\"(Epoch {epoch+1})\")\n",
    "        print(f\"MSE: train:{trainMses[epoch]:.3f}, valid:{validMses[epoch]:.3f}\")\n",
    "        print(f\"MAE: train:{trainMaes[epoch]:.3f}, valid:{validMaes[epoch]:.3f}\")\n",
    "        print(f\"{'-' * 50}\\n\")"
   ]
  },
  {
   "cell_type": "markdown",
   "metadata": {},
   "source": [
    "## Plot MSE and MAE"
   ]
  },
  {
   "cell_type": "code",
   "execution_count": 9,
   "metadata": {},
   "outputs": [
    {
     "data": {
      "image/png": "[encoded data removed]",
      "text/plain": [
       "<Figure size 1296x720 with 2 Axes>"
      ]
     },
     "metadata": {
      "needs_background": "light"
     },
     "output_type": "display_data"
    }
   ],
   "source": [
    "%matplotlib inline\n",
    "import matplotlib.pyplot as plt\n",
    "\n",
    "fig, (ax1, ax2) = plt.subplots(2, 1, figsize=(18,10))\n",
    "fig.subplots_adjust(hspace=0.5)\n",
    "\n",
    "ax1.set_title(\"MSE\")\n",
    "ax1.plot(range(epochs), trainMses, \"x-\", color=\"r\", label=\"Train\")\n",
    "ax1.plot(range(epochs), validMses, \"x-\", color=\"b\", label=\"Valid\")\n",
    "ax1.set(xlabel=\"Epoch\", ylabel=\"Loss\")\n",
    "ax1.legend(loc=\"upper right\")\n",
    "\n",
    "ax2.set_title(\"MAE\")\n",
    "ax2.plot(range(epochs), trainMaes, \"x-\", color=\"r\", label=\"Train\")\n",
    "ax2.plot(range(epochs), validMaes, \"x-\", color=\"b\", label=\"Valid\")\n",
    "ax2.set(xlabel=\"Epoch\", ylabel=\"Loss\")\n",
    "ax2.legend(loc=\"upper right\")\n",
    "\n",
    "plt.savefig(\"funksvd/loss.png\")\n",
    "plt.show()"
   ]
  },
  {
   "cell_type": "code",
   "execution_count": null,
   "metadata": {},
   "outputs": [],
   "source": []
  }
 ],
 "metadata": {
  "kernelspec": {
   "display_name": "Python 3",
   "language": "python",
   "name": "python3"
  },
  "language_info": {
   "codemirror_mode": {
    "name": "ipython",
    "version": 3
   },
   "file_extension": ".py",
   "mimetype": "text/x-python",
   "name": "python",
   "nbconvert_exporter": "python",
   "pygments_lexer": "ipython3",
   "version": "3.6.10"
  }
 },
 "nbformat": 4,
 "nbformat_minor": 4
}
